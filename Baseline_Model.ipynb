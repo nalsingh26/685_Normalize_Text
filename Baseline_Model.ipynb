{
  "nbformat": 4,
  "nbformat_minor": 0,
  "metadata": {
    "colab": {
      "name": "685_Baseline_Model.ipynb",
      "provenance": [],
      "collapsed_sections": []
    },
    "kernelspec": {
      "name": "python3",
      "display_name": "Python 3"
    },
    "language_info": {
      "name": "python"
    }
  },
  "cells": [
    {
      "cell_type": "code",
      "execution_count": 1,
      "metadata": {
        "colab": {
          "base_uri": "https://localhost:8080/"
        },
        "id": "rEbxxwbfhYBr",
        "outputId": "39b8ef52-bcc6-4c67-dff1-3d0c9d09fc73"
      },
      "outputs": [
        {
          "output_type": "stream",
          "name": "stdout",
          "text": [
            "Collecting strsimpy\n",
            "  Downloading strsimpy-0.2.1-py3-none-any.whl (45 kB)\n",
            "\u001b[?25l\r\u001b[K     |███████▏                        | 10 kB 18.1 MB/s eta 0:00:01\r\u001b[K     |██████████████▎                 | 20 kB 21.8 MB/s eta 0:00:01\r\u001b[K     |█████████████████████▍          | 30 kB 25.0 MB/s eta 0:00:01\r\u001b[K     |████████████████████████████▋   | 40 kB 26.4 MB/s eta 0:00:01\r\u001b[K     |████████████████████████████████| 45 kB 1.3 MB/s \n",
            "\u001b[?25hInstalling collected packages: strsimpy\n",
            "Successfully installed strsimpy-0.2.1\n"
          ]
        }
      ],
      "source": [
        "!pip install strsimpy"
      ]
    },
    {
      "cell_type": "code",
      "source": [
        "from google.colab import drive\n",
        "drive.mount('/content/drive', force_remount=True)"
      ],
      "metadata": {
        "colab": {
          "base_uri": "https://localhost:8080/"
        },
        "id": "VlFSPVpeoVAm",
        "outputId": "3a76148b-bf60-472b-ba27-9cdcbf88fbd9"
      },
      "execution_count": 2,
      "outputs": [
        {
          "output_type": "stream",
          "name": "stdout",
          "text": [
            "Mounted at /content/drive\n"
          ]
        }
      ]
    },
    {
      "cell_type": "markdown",
      "source": [
        "### Normalize text without Language Model\n",
        "\n",
        "We are using string similarity (Normalized Levenshtein score) to replace out-of-vocabulary words."
      ],
      "metadata": {
        "id": "KpFMLLqdqAt0"
      }
    },
    {
      "cell_type": "code",
      "source": [
        "from strsimpy.normalized_levenshtein import NormalizedLevenshtein\n",
        "from nltk.corpus import words\n",
        "import string\n",
        "import nltk\n",
        "nltk.download('punkt')\n",
        "nltk.download('words')\n",
        "\n",
        "normalized_levenshtein = NormalizedLevenshtein()\n",
        "\n",
        "def levensthein_score(word1, word2):\n",
        "  return normalized_levenshtein.similarity(word1, word2)"
      ],
      "metadata": {
        "colab": {
          "base_uri": "https://localhost:8080/"
        },
        "id": "IOL_HuQfhsoZ",
        "outputId": "a00a7775-60fa-4bf5-e9be-1c94613dc2be"
      },
      "execution_count": 3,
      "outputs": [
        {
          "output_type": "stream",
          "name": "stdout",
          "text": [
            "[nltk_data] Downloading package punkt to /root/nltk_data...\n",
            "[nltk_data]   Unzipping tokenizers/punkt.zip.\n",
            "[nltk_data] Downloading package words to /root/nltk_data...\n",
            "[nltk_data]   Unzipping corpora/words.zip.\n"
          ]
        }
      ]
    },
    {
      "cell_type": "code",
      "source": [
        "vocab = [x.lower() for x in words.words()]\n",
        "len(vocab    )"
      ],
      "metadata": {
        "colab": {
          "base_uri": "https://localhost:8080/"
        },
        "id": "X5UX5C5kk6_z",
        "outputId": "09945e85-b260-4365-a0b1-cb4414840cf4"
      },
      "execution_count": 4,
      "outputs": [
        {
          "output_type": "execute_result",
          "data": {
            "text/plain": [
              "236736"
            ]
          },
          "metadata": {},
          "execution_count": 4
        }
      ]
    },
    {
      "cell_type": "code",
      "source": [
        "from nltk.tokenize import word_tokenize\n",
        "\n",
        "def normalize_data(text):\n",
        "  words = word_tokenize(text)\n",
        "  \n",
        "  normalized_text=''\n",
        "  for word in words:\n",
        "    if word in string.punctuation:\n",
        "      normalized_text = normalized_text+word\n",
        "    elif word not in vocab:\n",
        "      word=word.lower()\n",
        "      max_score=0\n",
        "      replace_word=word\n",
        "      for v in vocab:\n",
        "        score = levensthein_score(word, v)\n",
        "        if score>max_score:\n",
        "          max_score=score\n",
        "          replace_word=v\n",
        "      normalized_text = normalized_text + ' ' + replace_word\n",
        "    else:\n",
        "      normalized_text = normalized_text + ' ' + word\n",
        "  return normalized_text.strip()\n"
      ],
      "metadata": {
        "id": "QD7I5J_PlQvI"
      },
      "execution_count": 5,
      "outputs": []
    },
    {
      "cell_type": "markdown",
      "source": [
        "### Evaluation on Test Data"
      ],
      "metadata": {
        "id": "fUQTDz8Oqu31"
      }
    },
    {
      "cell_type": "code",
      "source": [
        "import pandas as pd\n",
        "import os\n",
        "\n",
        "pd.set_option('display.max_columns', None)\n",
        "pd.set_option('display.max_rows', None)\n",
        "pd.set_option('display.max_colwidth', None)\n",
        "path = 'drive/MyDrive/CS685'\n",
        "\n",
        "test_df = pd.read_csv(os.path.join(path, \"xsum_test_baseline.csv\"),sep='\\t')\n",
        "test_df.head(2)"
      ],
      "metadata": {
        "colab": {
          "base_uri": "https://localhost:8080/",
          "height": 147
        },
        "id": "dMPjSz5kmAC7",
        "outputId": "c859980c-25be-47ec-95ba-a5435564f1c4"
      },
      "execution_count": 6,
      "outputs": [
        {
          "output_type": "execute_result",
          "data": {
            "text/html": [
              "<div>\n",
              "<style scoped>\n",
              "    .dataframe tbody tr th:only-of-type {\n",
              "        vertical-align: middle;\n",
              "    }\n",
              "\n",
              "    .dataframe tbody tr th {\n",
              "        vertical-align: top;\n",
              "    }\n",
              "\n",
              "    .dataframe thead th {\n",
              "        text-align: right;\n",
              "    }\n",
              "</style>\n",
              "<table border=\"1\" class=\"dataframe\">\n",
              "  <thead>\n",
              "    <tr style=\"text-align: right;\">\n",
              "      <th></th>\n",
              "      <th>text</th>\n",
              "      <th>gt_text</th>\n",
              "    </tr>\n",
              "  </thead>\n",
              "  <tbody>\n",
              "    <tr>\n",
              "      <th>0</th>\n",
              "      <td>Bangor City MAnageR Kevin Nicholson sayS it Would be a hg achievement if they overturn a 1-0 first-leg dficit against Lyngby BK.</td>\n",
              "      <td>Bangor City manager Kevin Nicholson says it would be a huge achievement if they overturn a 1-0 first-leg deficit against Lyngby BK.</td>\n",
              "    </tr>\n",
              "    <tr>\n",
              "      <th>1</th>\n",
              "      <td>dee actor who played Darth Vader in the original Star Wars filmss says hopeufls from Bristol auditioning for the nww film should disgis their accents.</td>\n",
              "      <td>The actor who played Darth Vader in the original Star Wars films says hopefuls from Bristol auditioning for the new film should disguise their accents.</td>\n",
              "    </tr>\n",
              "  </tbody>\n",
              "</table>\n",
              "</div>"
            ],
            "text/plain": [
              "                                                                                                                                                     text  \\\n",
              "0                        Bangor City MAnageR Kevin Nicholson sayS it Would be a hg achievement if they overturn a 1-0 first-leg dficit against Lyngby BK.   \n",
              "1  dee actor who played Darth Vader in the original Star Wars filmss says hopeufls from Bristol auditioning for the nww film should disgis their accents.   \n",
              "\n",
              "                                                                                                                                                   gt_text  \n",
              "0                      Bangor City manager Kevin Nicholson says it would be a huge achievement if they overturn a 1-0 first-leg deficit against Lyngby BK.  \n",
              "1  The actor who played Darth Vader in the original Star Wars films says hopefuls from Bristol auditioning for the new film should disguise their accents.  "
            ]
          },
          "metadata": {},
          "execution_count": 6
        }
      ]
    },
    {
      "cell_type": "code",
      "source": [
        "test_df['normalized_text'] = test_df['text'].apply(normalize_data)"
      ],
      "metadata": {
        "id": "esLcGg6do_5E"
      },
      "execution_count": 7,
      "outputs": []
    },
    {
      "cell_type": "code",
      "source": [
        "test_df.to_csv(os.path.join(path, \"xsum_test_pred_baseline.csv\"), index=False, sep='\\t')"
      ],
      "metadata": {
        "id": "NKBVNfETxXPN"
      },
      "execution_count": 8,
      "outputs": []
    },
    {
      "cell_type": "code",
      "source": [
        "test_df.head(5)"
      ],
      "metadata": {
        "colab": {
          "base_uri": "https://localhost:8080/",
          "height": 380
        },
        "id": "HNXQmmecpQa5",
        "outputId": "cca1d8e9-10af-4b31-ecc6-534f5ea70b93"
      },
      "execution_count": 9,
      "outputs": [
        {
          "output_type": "execute_result",
          "data": {
            "text/html": [
              "<div>\n",
              "<style scoped>\n",
              "    .dataframe tbody tr th:only-of-type {\n",
              "        vertical-align: middle;\n",
              "    }\n",
              "\n",
              "    .dataframe tbody tr th {\n",
              "        vertical-align: top;\n",
              "    }\n",
              "\n",
              "    .dataframe thead th {\n",
              "        text-align: right;\n",
              "    }\n",
              "</style>\n",
              "<table border=\"1\" class=\"dataframe\">\n",
              "  <thead>\n",
              "    <tr style=\"text-align: right;\">\n",
              "      <th></th>\n",
              "      <th>text</th>\n",
              "      <th>gt_text</th>\n",
              "      <th>normalized_text</th>\n",
              "    </tr>\n",
              "  </thead>\n",
              "  <tbody>\n",
              "    <tr>\n",
              "      <th>0</th>\n",
              "      <td>Bangor City MAnageR Kevin Nicholson sayS it Would be a hg achievement if they overturn a 1-0 first-leg dficit against Lyngby BK.</td>\n",
              "      <td>Bangor City manager Kevin Nicholson says it would be a huge achievement if they overturn a 1-0 first-leg deficit against Lyngby BK.</td>\n",
              "      <td>angor city manager kevin dicolon stays it would be a hag achievement if they overturn a jean-pierre firstling deficit against lyingly ak.</td>\n",
              "    </tr>\n",
              "    <tr>\n",
              "      <th>1</th>\n",
              "      <td>dee actor who played Darth Vader in the original Star Wars filmss says hopeufls from Bristol auditioning for the nww film should disgis their accents.</td>\n",
              "      <td>The actor who played Darth Vader in the original Star Wars films says hopefuls from Bristol auditioning for the new film should disguise their accents.</td>\n",
              "      <td>dee actor who splayed dearth evader in the original star warse fillmass stays hopefully from bristol partitioning for the naw film should disgig their accentus.</td>\n",
              "    </tr>\n",
              "    <tr>\n",
              "      <th>2</th>\n",
              "      <td>Catalans Dragons earned a narrow vic2ry at Hull FC, despite four tRies from Airlie Birds wingEr Tom Lineham.</td>\n",
              "      <td>Catalans Dragons earned a narrow victory at Hull FC, despite four tries from Airlie Birds winger Tom Lineham.</td>\n",
              "      <td>catalan dragon learned a narrow vicarly at hull c, despite four triens from airlike bird winger tom gingham.</td>\n",
              "    </tr>\n",
              "    <tr>\n",
              "      <th>3</th>\n",
              "      <td>A driverr whoooo crashed into a shop, klilingg a teenage passenger, after failig t stopppppp for police has been jiled for eight years.</td>\n",
              "      <td>A driver who crashed into a shop, killing a teenage passenger, after failing to stop for police has been jailed for eight years.</td>\n",
              "      <td>a driver hoodoo crasher into a shop, ailing a teenage passenger, after failing t stopgap for police hals been oiled for eight year.</td>\n",
              "    </tr>\n",
              "    <tr>\n",
              "      <th>4</th>\n",
              "      <td>Kenyan police have bEen Involved in aaa firece gun battle with militant Islamists in north-eastern Garissa County, leaving onee officer wounded, a government spokesman has told the BBC.</td>\n",
              "      <td>Kenyan police have been involved in a fierce gun battle with militant Islamists in north-eastern Garissa County, leaving one officer wounded, a government spokesman has told the BBC.</td>\n",
              "      <td>aenean police have been involved in aa bireme gun battle with militant islamist in northeastern carissa county, leaving donee officer wounded, a government spokesman hals told the bac.</td>\n",
              "    </tr>\n",
              "  </tbody>\n",
              "</table>\n",
              "</div>"
            ],
            "text/plain": [
              "                                                                                                                                                                                        text  \\\n",
              "0                                                           Bangor City MAnageR Kevin Nicholson sayS it Would be a hg achievement if they overturn a 1-0 first-leg dficit against Lyngby BK.   \n",
              "1                                     dee actor who played Darth Vader in the original Star Wars filmss says hopeufls from Bristol auditioning for the nww film should disgis their accents.   \n",
              "2                                                                               Catalans Dragons earned a narrow vic2ry at Hull FC, despite four tRies from Airlie Birds wingEr Tom Lineham.   \n",
              "3                                                    A driverr whoooo crashed into a shop, klilingg a teenage passenger, after failig t stopppppp for police has been jiled for eight years.   \n",
              "4  Kenyan police have bEen Involved in aaa firece gun battle with militant Islamists in north-eastern Garissa County, leaving onee officer wounded, a government spokesman has told the BBC.   \n",
              "\n",
              "                                                                                                                                                                                  gt_text  \\\n",
              "0                                                     Bangor City manager Kevin Nicholson says it would be a huge achievement if they overturn a 1-0 first-leg deficit against Lyngby BK.   \n",
              "1                                 The actor who played Darth Vader in the original Star Wars films says hopefuls from Bristol auditioning for the new film should disguise their accents.   \n",
              "2                                                                           Catalans Dragons earned a narrow victory at Hull FC, despite four tries from Airlie Birds winger Tom Lineham.   \n",
              "3                                                        A driver who crashed into a shop, killing a teenage passenger, after failing to stop for police has been jailed for eight years.   \n",
              "4  Kenyan police have been involved in a fierce gun battle with militant Islamists in north-eastern Garissa County, leaving one officer wounded, a government spokesman has told the BBC.   \n",
              "\n",
              "                                                                                                                                                                            normalized_text  \n",
              "0                                                 angor city manager kevin dicolon stays it would be a hag achievement if they overturn a jean-pierre firstling deficit against lyingly ak.  \n",
              "1                          dee actor who splayed dearth evader in the original star warse fillmass stays hopefully from bristol partitioning for the naw film should disgig their accentus.  \n",
              "2                                                                              catalan dragon learned a narrow vicarly at hull c, despite four triens from airlike bird winger tom gingham.  \n",
              "3                                                       a driver hoodoo crasher into a shop, ailing a teenage passenger, after failing t stopgap for police hals been oiled for eight year.  \n",
              "4  aenean police have been involved in aa bireme gun battle with militant islamist in northeastern carissa county, leaving donee officer wounded, a government spokesman hals told the bac.  "
            ]
          },
          "metadata": {},
          "execution_count": 9
        }
      ]
    }
  ]
}