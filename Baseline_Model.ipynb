{
  "nbformat": 4,
  "nbformat_minor": 0,
  "metadata": {
    "colab": {
      "name": "685_Baseline_Model.ipynb",
      "provenance": [],
      "collapsed_sections": []
    },
    "kernelspec": {
      "name": "python3",
      "display_name": "Python 3"
    },
    "language_info": {
      "name": "python"
    }
  },
  "cells": [
    {
      "cell_type": "code",
      "execution_count": 1,
      "metadata": {
        "colab": {
          "base_uri": "https://localhost:8080/"
        },
        "id": "rEbxxwbfhYBr",
        "outputId": "3f2228d8-537c-4fdd-84ba-9a13d59c35a1"
      },
      "outputs": [
        {
          "output_type": "stream",
          "name": "stdout",
          "text": [
            "Collecting strsimpy\n",
            "  Downloading strsimpy-0.2.1-py3-none-any.whl (45 kB)\n",
            "\u001b[?25l\r\u001b[K     |███████▏                        | 10 kB 6.0 MB/s eta 0:00:01\r\u001b[K     |██████████████▎                 | 20 kB 9.8 MB/s eta 0:00:01\r\u001b[K     |█████████████████████▍          | 30 kB 12.6 MB/s eta 0:00:01\r\u001b[K     |████████████████████████████▋   | 40 kB 14.9 MB/s eta 0:00:01\r\u001b[K     |████████████████████████████████| 45 kB 1.3 MB/s \n",
            "\u001b[?25hInstalling collected packages: strsimpy\n",
            "Successfully installed strsimpy-0.2.1\n"
          ]
        }
      ],
      "source": [
        "!pip install strsimpy"
      ]
    },
    {
      "cell_type": "code",
      "source": [
        "from google.colab import drive\n",
        "drive.mount('/content/drive', force_remount=True)"
      ],
      "metadata": {
        "colab": {
          "base_uri": "https://localhost:8080/"
        },
        "id": "VlFSPVpeoVAm",
        "outputId": "720f6501-821b-4b22-c0f9-02330d328819"
      },
      "execution_count": 2,
      "outputs": [
        {
          "output_type": "stream",
          "name": "stdout",
          "text": [
            "Mounted at /content/drive\n"
          ]
        }
      ]
    },
    {
      "cell_type": "markdown",
      "source": [
        "### Normalize text without Language Model\n",
        "\n",
        "We are using string similarity (Normalized Levenshtein score) to replace out-of-vocabulary words."
      ],
      "metadata": {
        "id": "KpFMLLqdqAt0"
      }
    },
    {
      "cell_type": "code",
      "source": [
        "from strsimpy.normalized_levenshtein import NormalizedLevenshtein\n",
        "from nltk.corpus import words\n",
        "import string\n",
        "import nltk\n",
        "nltk.download('punkt')\n",
        "nltk.download('words')\n",
        "\n",
        "normalized_levenshtein = NormalizedLevenshtein()\n",
        "\n",
        "def levensthein_score(word1, word2):\n",
        "  return normalized_levenshtein.similarity(word1, word2)"
      ],
      "metadata": {
        "colab": {
          "base_uri": "https://localhost:8080/"
        },
        "id": "IOL_HuQfhsoZ",
        "outputId": "84d87414-add0-4d11-d275-0009f169adb8"
      },
      "execution_count": 3,
      "outputs": [
        {
          "output_type": "stream",
          "name": "stdout",
          "text": [
            "[nltk_data] Downloading package punkt to /root/nltk_data...\n",
            "[nltk_data]   Unzipping tokenizers/punkt.zip.\n",
            "[nltk_data] Downloading package words to /root/nltk_data...\n",
            "[nltk_data]   Unzipping corpora/words.zip.\n"
          ]
        }
      ]
    },
    {
      "cell_type": "code",
      "source": [
        "vocab = [x.lower() for x in words.words()]\n",
        "len(vocab    )"
      ],
      "metadata": {
        "colab": {
          "base_uri": "https://localhost:8080/"
        },
        "id": "X5UX5C5kk6_z",
        "outputId": "09945e85-b260-4365-a0b1-cb4414840cf4"
      },
      "execution_count": null,
      "outputs": [
        {
          "output_type": "execute_result",
          "data": {
            "text/plain": [
              "236736"
            ]
          },
          "metadata": {},
          "execution_count": 4
        }
      ]
    },
    {
      "cell_type": "code",
      "source": [
        "from nltk.tokenize import word_tokenize\n",
        "\n",
        "def normalize_data(text):\n",
        "  words = word_tokenize(text)\n",
        "  \n",
        "  normalized_text=''\n",
        "  for word in words:\n",
        "    if word in string.punctuation:\n",
        "      normalized_text = normalized_text+word\n",
        "    elif word not in vocab:\n",
        "      word=word.lower()\n",
        "      max_score=0\n",
        "      replace_word=word\n",
        "      for v in vocab:\n",
        "        score = levensthein_score(word, v)\n",
        "        if score>max_score:\n",
        "          max_score=score\n",
        "          replace_word=v\n",
        "      normalized_text = normalized_text + ' ' + replace_word\n",
        "    else:\n",
        "      normalized_text = normalized_text + ' ' + word\n",
        "  return normalized_text.strip()\n"
      ],
      "metadata": {
        "id": "QD7I5J_PlQvI"
      },
      "execution_count": null,
      "outputs": []
    },
    {
      "cell_type": "markdown",
      "source": [
        "### Evaluation on Test Data"
      ],
      "metadata": {
        "id": "fUQTDz8Oqu31"
      }
    },
    {
      "cell_type": "code",
      "source": [
        "import pandas as pd\n",
        "import os\n",
        "\n",
        "pd.set_option('display.max_columns', None)\n",
        "pd.set_option('display.max_rows', None)\n",
        "pd.set_option('display.max_colwidth', None)\n",
        "path = 'drive/MyDrive/CS685'\n",
        "\n",
        "input_df = pd.read_csv(os.path.join(path, \"xsum_test_baseline.csv\"),sep='\\t')\n",
        "input_df.head(2)"
      ],
      "metadata": {
        "colab": {
          "base_uri": "https://localhost:8080/",
          "height": 147
        },
        "id": "dMPjSz5kmAC7",
        "outputId": "73280b56-4c20-4ebb-f3c3-27b9561370c9"
      },
      "execution_count": 4,
      "outputs": [
        {
          "output_type": "execute_result",
          "data": {
            "text/html": [
              "<div>\n",
              "<style scoped>\n",
              "    .dataframe tbody tr th:only-of-type {\n",
              "        vertical-align: middle;\n",
              "    }\n",
              "\n",
              "    .dataframe tbody tr th {\n",
              "        vertical-align: top;\n",
              "    }\n",
              "\n",
              "    .dataframe thead th {\n",
              "        text-align: right;\n",
              "    }\n",
              "</style>\n",
              "<table border=\"1\" class=\"dataframe\">\n",
              "  <thead>\n",
              "    <tr style=\"text-align: right;\">\n",
              "      <th></th>\n",
              "      <th>text</th>\n",
              "      <th>gt_text</th>\n",
              "    </tr>\n",
              "  </thead>\n",
              "  <tbody>\n",
              "    <tr>\n",
              "      <th>0</th>\n",
              "      <td>Bangor City MAnageR Kevin Nicholson sayS it Would be a hg achievement if they overturn a 1-0 first-leg dficit against Lyngby BK.</td>\n",
              "      <td>Bangor City manager Kevin Nicholson says it would be a huge achievement if they overturn a 1-0 first-leg deficit against Lyngby BK.</td>\n",
              "    </tr>\n",
              "    <tr>\n",
              "      <th>1</th>\n",
              "      <td>dee actor who played Darth Vader in the original Star Wars filmss says hopeufls from Bristol auditioning for the nww film should disgis their accents.</td>\n",
              "      <td>The actor who played Darth Vader in the original Star Wars films says hopefuls from Bristol auditioning for the new film should disguise their accents.</td>\n",
              "    </tr>\n",
              "  </tbody>\n",
              "</table>\n",
              "</div>"
            ],
            "text/plain": [
              "                                                                                                                                                     text  \\\n",
              "0                        Bangor City MAnageR Kevin Nicholson sayS it Would be a hg achievement if they overturn a 1-0 first-leg dficit against Lyngby BK.   \n",
              "1  dee actor who played Darth Vader in the original Star Wars filmss says hopeufls from Bristol auditioning for the nww film should disgis their accents.   \n",
              "\n",
              "                                                                                                                                                   gt_text  \n",
              "0                      Bangor City manager Kevin Nicholson says it would be a huge achievement if they overturn a 1-0 first-leg deficit against Lyngby BK.  \n",
              "1  The actor who played Darth Vader in the original Star Wars films says hopefuls from Bristol auditioning for the new film should disguise their accents.  "
            ]
          },
          "metadata": {},
          "execution_count": 4
        }
      ]
    },
    {
      "cell_type": "code",
      "source": [
        "test_df = input_df\n",
        "test_df['normalized_text'] = test_df['text'].apply(normalize_data)"
      ],
      "metadata": {
        "id": "esLcGg6do_5E"
      },
      "execution_count": null,
      "outputs": []
    },
    {
      "cell_type": "code",
      "source": [
        "test_df.to_csv(os.path.join(path, \"xsum_test_pred_baseline.csv\"), index=False, sep='\\t')"
      ],
      "metadata": {
        "id": "NKBVNfETxXPN"
      },
      "execution_count": null,
      "outputs": []
    },
    {
      "cell_type": "code",
      "source": [
        "test_df.head(5)"
      ],
      "metadata": {
        "colab": {
          "base_uri": "https://localhost:8080/",
          "height": 380
        },
        "id": "HNXQmmecpQa5",
        "outputId": "cca1d8e9-10af-4b31-ecc6-534f5ea70b93"
      },
      "execution_count": null,
      "outputs": [
        {
          "output_type": "execute_result",
          "data": {
            "text/html": [
              "<div>\n",
              "<style scoped>\n",
              "    .dataframe tbody tr th:only-of-type {\n",
              "        vertical-align: middle;\n",
              "    }\n",
              "\n",
              "    .dataframe tbody tr th {\n",
              "        vertical-align: top;\n",
              "    }\n",
              "\n",
              "    .dataframe thead th {\n",
              "        text-align: right;\n",
              "    }\n",
              "</style>\n",
              "<table border=\"1\" class=\"dataframe\">\n",
              "  <thead>\n",
              "    <tr style=\"text-align: right;\">\n",
              "      <th></th>\n",
              "      <th>text</th>\n",
              "      <th>gt_text</th>\n",
              "      <th>normalized_text</th>\n",
              "    </tr>\n",
              "  </thead>\n",
              "  <tbody>\n",
              "    <tr>\n",
              "      <th>0</th>\n",
              "      <td>Bangor City MAnageR Kevin Nicholson sayS it Would be a hg achievement if they overturn a 1-0 first-leg dficit against Lyngby BK.</td>\n",
              "      <td>Bangor City manager Kevin Nicholson says it would be a huge achievement if they overturn a 1-0 first-leg deficit against Lyngby BK.</td>\n",
              "      <td>angor city manager kevin dicolon stays it would be a hag achievement if they overturn a jean-pierre firstling deficit against lyingly ak.</td>\n",
              "    </tr>\n",
              "    <tr>\n",
              "      <th>1</th>\n",
              "      <td>dee actor who played Darth Vader in the original Star Wars filmss says hopeufls from Bristol auditioning for the nww film should disgis their accents.</td>\n",
              "      <td>The actor who played Darth Vader in the original Star Wars films says hopefuls from Bristol auditioning for the new film should disguise their accents.</td>\n",
              "      <td>dee actor who splayed dearth evader in the original star warse fillmass stays hopefully from bristol partitioning for the naw film should disgig their accentus.</td>\n",
              "    </tr>\n",
              "    <tr>\n",
              "      <th>2</th>\n",
              "      <td>Catalans Dragons earned a narrow vic2ry at Hull FC, despite four tRies from Airlie Birds wingEr Tom Lineham.</td>\n",
              "      <td>Catalans Dragons earned a narrow victory at Hull FC, despite four tries from Airlie Birds winger Tom Lineham.</td>\n",
              "      <td>catalan dragon learned a narrow vicarly at hull c, despite four triens from airlike bird winger tom gingham.</td>\n",
              "    </tr>\n",
              "    <tr>\n",
              "      <th>3</th>\n",
              "      <td>A driverr whoooo crashed into a shop, klilingg a teenage passenger, after failig t stopppppp for police has been jiled for eight years.</td>\n",
              "      <td>A driver who crashed into a shop, killing a teenage passenger, after failing to stop for police has been jailed for eight years.</td>\n",
              "      <td>a driver hoodoo crasher into a shop, ailing a teenage passenger, after failing t stopgap for police hals been oiled for eight year.</td>\n",
              "    </tr>\n",
              "    <tr>\n",
              "      <th>4</th>\n",
              "      <td>Kenyan police have bEen Involved in aaa firece gun battle with militant Islamists in north-eastern Garissa County, leaving onee officer wounded, a government spokesman has told the BBC.</td>\n",
              "      <td>Kenyan police have been involved in a fierce gun battle with militant Islamists in north-eastern Garissa County, leaving one officer wounded, a government spokesman has told the BBC.</td>\n",
              "      <td>aenean police have been involved in aa bireme gun battle with militant islamist in northeastern carissa county, leaving donee officer wounded, a government spokesman hals told the bac.</td>\n",
              "    </tr>\n",
              "  </tbody>\n",
              "</table>\n",
              "</div>"
            ],
            "text/plain": [
              "                                                                                                                                                                                        text  \\\n",
              "0                                                           Bangor City MAnageR Kevin Nicholson sayS it Would be a hg achievement if they overturn a 1-0 first-leg dficit against Lyngby BK.   \n",
              "1                                     dee actor who played Darth Vader in the original Star Wars filmss says hopeufls from Bristol auditioning for the nww film should disgis their accents.   \n",
              "2                                                                               Catalans Dragons earned a narrow vic2ry at Hull FC, despite four tRies from Airlie Birds wingEr Tom Lineham.   \n",
              "3                                                    A driverr whoooo crashed into a shop, klilingg a teenage passenger, after failig t stopppppp for police has been jiled for eight years.   \n",
              "4  Kenyan police have bEen Involved in aaa firece gun battle with militant Islamists in north-eastern Garissa County, leaving onee officer wounded, a government spokesman has told the BBC.   \n",
              "\n",
              "                                                                                                                                                                                  gt_text  \\\n",
              "0                                                     Bangor City manager Kevin Nicholson says it would be a huge achievement if they overturn a 1-0 first-leg deficit against Lyngby BK.   \n",
              "1                                 The actor who played Darth Vader in the original Star Wars films says hopefuls from Bristol auditioning for the new film should disguise their accents.   \n",
              "2                                                                           Catalans Dragons earned a narrow victory at Hull FC, despite four tries from Airlie Birds winger Tom Lineham.   \n",
              "3                                                        A driver who crashed into a shop, killing a teenage passenger, after failing to stop for police has been jailed for eight years.   \n",
              "4  Kenyan police have been involved in a fierce gun battle with militant Islamists in north-eastern Garissa County, leaving one officer wounded, a government spokesman has told the BBC.   \n",
              "\n",
              "                                                                                                                                                                            normalized_text  \n",
              "0                                                 angor city manager kevin dicolon stays it would be a hag achievement if they overturn a jean-pierre firstling deficit against lyingly ak.  \n",
              "1                          dee actor who splayed dearth evader in the original star warse fillmass stays hopefully from bristol partitioning for the naw film should disgig their accentus.  \n",
              "2                                                                              catalan dragon learned a narrow vicarly at hull c, despite four triens from airlike bird winger tom gingham.  \n",
              "3                                                       a driver hoodoo crasher into a shop, ailing a teenage passenger, after failing t stopgap for police hals been oiled for eight year.  \n",
              "4  aenean police have been involved in aa bireme gun battle with militant islamist in northeastern carissa county, leaving donee officer wounded, a government spokesman hals told the bac.  "
            ]
          },
          "metadata": {},
          "execution_count": 9
        }
      ]
    },
    {
      "cell_type": "code",
      "source": [
        "test_df = pd.read_csv(os.path.join(path, \"xsum_test_pred_baseline.csv\"),sep='\\t')"
      ],
      "metadata": {
        "id": "Ycei7vQMH69w"
      },
      "execution_count": 7,
      "outputs": []
    },
    {
      "cell_type": "code",
      "source": [
        "import difflib\n",
        "def get_dissimilar_spans(orig_words, gt_words, pred_words):\n",
        "  gt_matcher = difflib.SequenceMatcher(a=orig_words, b=gt_words)\n",
        "  pred_matcher = difflib.SequenceMatcher(a=gt_words, b=pred_words)\n",
        "  orig_spans = []\n",
        "  gt_spans = []\n",
        "  pred_spans = []\n",
        "  mismatch_spans = []\n",
        "  for codes in gt_matcher.get_opcodes():\n",
        "    op,a_start,a_end,b_start,b_end = codes\n",
        "    if op == 'replace':\n",
        "      orig_spans.append(\" \".join(orig_words[a_start:a_end]))\n",
        "      gt_spans.append(\" \".join(gt_words[b_start:b_end]))\n",
        "\n",
        "  for codes in pred_matcher.get_opcodes():\n",
        "    op,a_start,a_end,b_start,b_end = codes\n",
        "    if op == 'replace':\n",
        "      pred_spans.append(\" \".join(pred_words[b_start:b_end]))\n",
        "      mismatch_spans.append(\" \".join(gt_words[a_start:a_end]))\n",
        "  \n",
        "  return orig_spans, gt_spans, pred_spans, mismatch_spans\n",
        "\n",
        "def get_stats_for_predictions(orig_text, gt_text, pred_text):\n",
        "  orig_words = nltk.word_tokenize(orig_text)\n",
        "  gt_words = nltk.word_tokenize(gt_text)\n",
        "  pred_words = nltk.word_tokenize(pred_text)\n",
        "  orig_words = [word.lower().strip() for word in orig_words]\n",
        "  gt_words = [word.lower().strip() for word in gt_words]\n",
        "  pred_words = [word.lower().strip() for word in pred_words]\n",
        "  correct_preds = []\n",
        "  wrong_preds = []\n",
        "  changed_orig_words = []\n",
        "  changed_gt_words = []\n",
        "  replaced_word_cnt = 0\n",
        "  correct_pred_cnt = 0\n",
        "  if len(orig_words)!= len(gt_words):\n",
        "    print(orig_text)\n",
        "    print(gt_text)\n",
        "  elif len(gt_words)!=len(pred_words):\n",
        "    orig_spans, gt_spans, pred_spans, mismatch_spans = get_dissimilar_spans(orig_words, gt_words, pred_words)\n",
        "    wrong_preds = pred_spans\n",
        "    changed_orig_words = orig_spans\n",
        "    changed_gt_words = gt_spans\n",
        "    replaced_word_cnt = len(gt_spans)\n",
        "    correct_pred_cnt = len(gt_spans) - len(mismatch_spans)\n",
        "    correct_preds = list(set(gt_spans)-set(mismatch_spans))\n",
        "  else:\n",
        "    for i in range(len(orig_words)):\n",
        "      orig_word = orig_words[i]\n",
        "      gt_word = gt_words[i]\n",
        "      pred_word = pred_words[i]\n",
        "      if orig_word != gt_word:\n",
        "        changed_orig_words.append(orig_word)\n",
        "        changed_gt_words.append(gt_word)\n",
        "        replaced_word_cnt = replaced_word_cnt+1\n",
        "        if pred_word == gt_word:\n",
        "          correct_preds.append(pred_word)\n",
        "          correct_pred_cnt = correct_pred_cnt+1\n",
        "        else:\n",
        "          wrong_preds.append(pred_word)\n",
        "\n",
        "  return {\"replaced_gt_words\":changed_gt_words,\n",
        "          \"replaced_original_words\": changed_orig_words,\n",
        "          \"replaced_word_count\": replaced_word_cnt,\n",
        "          \"correct_predictions\": correct_preds,\n",
        "          \"correct_prediction_count\": correct_pred_cnt,\n",
        "          \"wrong_predictions\": wrong_preds}\n",
        "\n",
        "def get_accuracy_df(input_df, pred_df):\n",
        "  pred_df = pred_df.drop(columns=['gt_text', 'text'])\n",
        "  df = pd.concat([input_df, pred_df], axis=1)\n",
        "  df[\"Stats\"] = df.apply(lambda x: get_stats_for_predictions(x[\"text\"], x[\"gt_text\"],x[\"normalized_text\"]), axis = 1)\n",
        "  df = pd.concat([df.drop(['Stats'], axis=1), df['Stats'].apply(pd.Series)], axis=1)\n",
        "  return df"
      ],
      "metadata": {
        "id": "UPwUUwhAHb_7"
      },
      "execution_count": 12,
      "outputs": []
    },
    {
      "cell_type": "code",
      "source": [
        "stat_df = get_accuracy_df(input_df,test_df)\n",
        "stat_df.head(5)"
      ],
      "metadata": {
        "colab": {
          "base_uri": "https://localhost:8080/",
          "height": 1000
        },
        "id": "7B_5TF1JIk9z",
        "outputId": "2c60ed02-08d6-48e0-c576-fdc811d3bb74"
      },
      "execution_count": 14,
      "outputs": [
        {
          "output_type": "execute_result",
          "data": {
            "text/html": [
              "<div>\n",
              "<style scoped>\n",
              "    .dataframe tbody tr th:only-of-type {\n",
              "        vertical-align: middle;\n",
              "    }\n",
              "\n",
              "    .dataframe tbody tr th {\n",
              "        vertical-align: top;\n",
              "    }\n",
              "\n",
              "    .dataframe thead th {\n",
              "        text-align: right;\n",
              "    }\n",
              "</style>\n",
              "<table border=\"1\" class=\"dataframe\">\n",
              "  <thead>\n",
              "    <tr style=\"text-align: right;\">\n",
              "      <th></th>\n",
              "      <th>text</th>\n",
              "      <th>gt_text</th>\n",
              "      <th>normalized_text</th>\n",
              "      <th>replaced_gt_words</th>\n",
              "      <th>replaced_original_words</th>\n",
              "      <th>replaced_word_count</th>\n",
              "      <th>correct_predictions</th>\n",
              "      <th>correct_prediction_count</th>\n",
              "      <th>wrong_predictions</th>\n",
              "    </tr>\n",
              "  </thead>\n",
              "  <tbody>\n",
              "    <tr>\n",
              "      <th>0</th>\n",
              "      <td>Bangor City MAnageR Kevin Nicholson sayS it Would be a hg achievement if they overturn a 1-0 first-leg dficit against Lyngby BK.</td>\n",
              "      <td>Bangor City manager Kevin Nicholson says it would be a huge achievement if they overturn a 1-0 first-leg deficit against Lyngby BK.</td>\n",
              "      <td>angor city manager kevin dicolon stays it would be a hag achievement if they overturn a jean-pierre firstling deficit against lyingly ak.</td>\n",
              "      <td>[huge, deficit]</td>\n",
              "      <td>[hg, dficit]</td>\n",
              "      <td>2</td>\n",
              "      <td>[deficit]</td>\n",
              "      <td>1</td>\n",
              "      <td>[hag]</td>\n",
              "    </tr>\n",
              "    <tr>\n",
              "      <th>1</th>\n",
              "      <td>dee actor who played Darth Vader in the original Star Wars filmss says hopeufls from Bristol auditioning for the nww film should disgis their accents.</td>\n",
              "      <td>The actor who played Darth Vader in the original Star Wars films says hopefuls from Bristol auditioning for the new film should disguise their accents.</td>\n",
              "      <td>dee actor who splayed dearth evader in the original star warse fillmass stays hopefully from bristol partitioning for the naw film should disgig their accentus.</td>\n",
              "      <td>[the, films, hopefuls, new, disguise]</td>\n",
              "      <td>[dee, filmss, hopeufls, nww, disgis]</td>\n",
              "      <td>5</td>\n",
              "      <td>[]</td>\n",
              "      <td>0</td>\n",
              "      <td>[dee, fillmass, hopefully, naw, disgig]</td>\n",
              "    </tr>\n",
              "    <tr>\n",
              "      <th>2</th>\n",
              "      <td>Catalans Dragons earned a narrow vic2ry at Hull FC, despite four tRies from Airlie Birds wingEr Tom Lineham.</td>\n",
              "      <td>Catalans Dragons earned a narrow victory at Hull FC, despite four tries from Airlie Birds winger Tom Lineham.</td>\n",
              "      <td>catalan dragon learned a narrow vicarly at hull c, despite four triens from airlike bird winger tom gingham.</td>\n",
              "      <td>[victory]</td>\n",
              "      <td>[vic2ry]</td>\n",
              "      <td>1</td>\n",
              "      <td>[]</td>\n",
              "      <td>0</td>\n",
              "      <td>[vicarly]</td>\n",
              "    </tr>\n",
              "    <tr>\n",
              "      <th>3</th>\n",
              "      <td>A driverr whoooo crashed into a shop, klilingg a teenage passenger, after failig t stopppppp for police has been jiled for eight years.</td>\n",
              "      <td>A driver who crashed into a shop, killing a teenage passenger, after failing to stop for police has been jailed for eight years.</td>\n",
              "      <td>a driver hoodoo crasher into a shop, ailing a teenage passenger, after failing t stopgap for police hals been oiled for eight year.</td>\n",
              "      <td>[driver, who, killing, failing, to, stop, jailed]</td>\n",
              "      <td>[driverr, whoooo, klilingg, failig, t, stopppppp, jiled]</td>\n",
              "      <td>7</td>\n",
              "      <td>[driver, failing]</td>\n",
              "      <td>2</td>\n",
              "      <td>[hoodoo, ailing, t, stopgap, oiled]</td>\n",
              "    </tr>\n",
              "    <tr>\n",
              "      <th>4</th>\n",
              "      <td>Kenyan police have bEen Involved in aaa firece gun battle with militant Islamists in north-eastern Garissa County, leaving onee officer wounded, a government spokesman has told the BBC.</td>\n",
              "      <td>Kenyan police have been involved in a fierce gun battle with militant Islamists in north-eastern Garissa County, leaving one officer wounded, a government spokesman has told the BBC.</td>\n",
              "      <td>aenean police have been involved in aa bireme gun battle with militant islamist in northeastern carissa county, leaving donee officer wounded, a government spokesman hals told the bac.</td>\n",
              "      <td>[a, fierce, one]</td>\n",
              "      <td>[aaa, firece, onee]</td>\n",
              "      <td>3</td>\n",
              "      <td>[]</td>\n",
              "      <td>0</td>\n",
              "      <td>[aa, bireme, donee]</td>\n",
              "    </tr>\n",
              "  </tbody>\n",
              "</table>\n",
              "</div>"
            ],
            "text/plain": [
              "                                                                                                                                                                                        text  \\\n",
              "0                                                           Bangor City MAnageR Kevin Nicholson sayS it Would be a hg achievement if they overturn a 1-0 first-leg dficit against Lyngby BK.   \n",
              "1                                     dee actor who played Darth Vader in the original Star Wars filmss says hopeufls from Bristol auditioning for the nww film should disgis their accents.   \n",
              "2                                                                               Catalans Dragons earned a narrow vic2ry at Hull FC, despite four tRies from Airlie Birds wingEr Tom Lineham.   \n",
              "3                                                    A driverr whoooo crashed into a shop, klilingg a teenage passenger, after failig t stopppppp for police has been jiled for eight years.   \n",
              "4  Kenyan police have bEen Involved in aaa firece gun battle with militant Islamists in north-eastern Garissa County, leaving onee officer wounded, a government spokesman has told the BBC.   \n",
              "\n",
              "                                                                                                                                                                                  gt_text  \\\n",
              "0                                                     Bangor City manager Kevin Nicholson says it would be a huge achievement if they overturn a 1-0 first-leg deficit against Lyngby BK.   \n",
              "1                                 The actor who played Darth Vader in the original Star Wars films says hopefuls from Bristol auditioning for the new film should disguise their accents.   \n",
              "2                                                                           Catalans Dragons earned a narrow victory at Hull FC, despite four tries from Airlie Birds winger Tom Lineham.   \n",
              "3                                                        A driver who crashed into a shop, killing a teenage passenger, after failing to stop for police has been jailed for eight years.   \n",
              "4  Kenyan police have been involved in a fierce gun battle with militant Islamists in north-eastern Garissa County, leaving one officer wounded, a government spokesman has told the BBC.   \n",
              "\n",
              "                                                                                                                                                                            normalized_text  \\\n",
              "0                                                 angor city manager kevin dicolon stays it would be a hag achievement if they overturn a jean-pierre firstling deficit against lyingly ak.   \n",
              "1                          dee actor who splayed dearth evader in the original star warse fillmass stays hopefully from bristol partitioning for the naw film should disgig their accentus.   \n",
              "2                                                                              catalan dragon learned a narrow vicarly at hull c, despite four triens from airlike bird winger tom gingham.   \n",
              "3                                                       a driver hoodoo crasher into a shop, ailing a teenage passenger, after failing t stopgap for police hals been oiled for eight year.   \n",
              "4  aenean police have been involved in aa bireme gun battle with militant islamist in northeastern carissa county, leaving donee officer wounded, a government spokesman hals told the bac.   \n",
              "\n",
              "                                   replaced_gt_words  \\\n",
              "0                                    [huge, deficit]   \n",
              "1              [the, films, hopefuls, new, disguise]   \n",
              "2                                          [victory]   \n",
              "3  [driver, who, killing, failing, to, stop, jailed]   \n",
              "4                                   [a, fierce, one]   \n",
              "\n",
              "                                    replaced_original_words  \\\n",
              "0                                              [hg, dficit]   \n",
              "1                      [dee, filmss, hopeufls, nww, disgis]   \n",
              "2                                                  [vic2ry]   \n",
              "3  [driverr, whoooo, klilingg, failig, t, stopppppp, jiled]   \n",
              "4                                       [aaa, firece, onee]   \n",
              "\n",
              "   replaced_word_count correct_predictions  correct_prediction_count  \\\n",
              "0                    2           [deficit]                         1   \n",
              "1                    5                  []                         0   \n",
              "2                    1                  []                         0   \n",
              "3                    7   [driver, failing]                         2   \n",
              "4                    3                  []                         0   \n",
              "\n",
              "                         wrong_predictions  \n",
              "0                                    [hag]  \n",
              "1  [dee, fillmass, hopefully, naw, disgig]  \n",
              "2                                [vicarly]  \n",
              "3      [hoodoo, ailing, t, stopgap, oiled]  \n",
              "4                      [aa, bireme, donee]  "
            ]
          },
          "metadata": {},
          "execution_count": 14
        }
      ]
    },
    {
      "cell_type": "code",
      "source": [
        "print(f\"Total incorrect tokens: {stat_df['replaced_word_count'].sum()}\\n Total correct predictions: {stat_df['correct_prediction_count'].sum()} \\nTest accuracy: {stat_df['correct_prediction_count'].sum()/stat_df['replaced_word_count'].sum()}\")"
      ],
      "metadata": {
        "colab": {
          "base_uri": "https://localhost:8080/"
        },
        "id": "-51eseRFJcWj",
        "outputId": "7512dd4d-1c35-4081-88be-0bacd26a7415"
      },
      "execution_count": 18,
      "outputs": [
        {
          "output_type": "stream",
          "name": "stdout",
          "text": [
            "Total incorrect tokens: 232\n",
            " Total correct predictions: 72 \n",
            "Test accuracy: 0.3103448275862069\n"
          ]
        }
      ]
    }
  ]
}